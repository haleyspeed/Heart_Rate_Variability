{
 "cells": [
  {
   "cell_type": "markdown",
   "metadata": {},
   "source": [
    "## Heart Rate Variability Analysis"
   ]
  },
  {
   "cell_type": "markdown",
   "metadata": {},
   "source": [
    "Assumes Ch0 = Breath, Ch1 = Heart <br>\n",
    "This script will crash with large files (> 20 min recordings) if run in Jupyter notebooks <br>\n",
    "For large files, run in the python terminal<br>\n",
    "For very large files, run on the High Performace Computing core (Research Bioinformatics, contact Marc Carlson or Glenn Morton)<br>"
   ]
  },
  {
   "cell_type": "markdown",
   "metadata": {},
   "source": [
    "### User Input"
   ]
  },
  {
   "cell_type": "code",
   "execution_count": 2,
   "metadata": {},
   "outputs": [],
   "source": [
    "# File variables\n",
    "dir_in = r'C:\\Users\\haley\\Dropbox\\Code\\Heartrate Variability'\n",
    "dir_out = dir_in + r'\\analyzed'\n",
    "file_in = 'BL6_P15_0001.abf'\n",
    "\n",
    "start_mins = 0 # in Minutes from the ABF file (use clampfit to find window)\n",
    "end_mins = 0.05 # Last data point to analyze. -9999 indicates the whole file\n",
    "\n",
    "# Exclusion criteria\n",
    "threshold1 = 0.4     # min amplitude to signal a peak on Ch0 (half peak)\n",
    "threshold2 = 0.05    # min amplitdue to signal a peak on Ch1"
   ]
  },
  {
   "cell_type": "markdown",
   "metadata": {},
   "source": [
    "### Add experiment Notes"
   ]
  },
  {
   "cell_type": "markdown",
   "metadata": {},
   "source": [
    "* Opened the original file in Clampfit and sected a few regions of interest up to 5 min long for testing\n",
    "* Analyzed data and parameters can be found in a subfolder of the input directory named \"analyzed\""
   ]
  },
  {
   "cell_type": "markdown",
   "metadata": {},
   "source": [
    "### Load Packages"
   ]
  },
  {
   "cell_type": "code",
   "execution_count": 3,
   "metadata": {},
   "outputs": [],
   "source": [
    "import pyabf\n",
    "import os\n",
    "import numpy as np\n",
    "import pandas as pd\n",
    "from datetime import datetime\n",
    "import matplotlib.pyplot as plt\n",
    "from IPython.display import display, HTML"
   ]
  },
  {
   "cell_type": "markdown",
   "metadata": {},
   "source": [
    "### Load Traces Into Python and Initialize Variables\n",
    "  \n"
   ]
  },
  {
   "cell_type": "code",
   "execution_count": 4,
   "metadata": {},
   "outputs": [
    {
     "name": "stdout",
     "output_type": "stream",
     "text": [
      "Time of run =  12/13/2019, 13:14:03\n",
      "Input file = C:\\Users\\haley\\Dropbox\\Code\\Heartrate VariabilityBL6_P15_0001.abf\n",
      "Output directory = C:\\Users\\haley\\Dropbox\\Code\\Heartrate Variability\\analyzed\n",
      "Analysis window (in minutes) = 0 , 0.05\n",
      "Analysis window (in s) = 0 , 3\n",
      "Analysis window (in datapoints) = 0 , 1500\n"
     ]
    }
   ],
   "source": [
    "os.chdir (dir_in)\n",
    "abf = pyabf.ABF(file_in) \n",
    "smpl = abf.dataPointsPerMs # Scale factor for reading the raw data into the graph (in ms - must be integer)\n",
    "start = round(start_mins * 60 * 1000/smpl)\n",
    "end = round(end_mins * 60 * 1000/smpl)\n",
    "start_s = round(start_mins * 60)\n",
    "end_s = round(end_mins * 60 )\n",
    "start_ms = round(start_mins * 60/1000)\n",
    "end_ms = round(end_mins * 60/1000 )\n",
    "\n",
    "# Assemble meta data for parameters text file\n",
    "meta_name = file_in.split('.abf')\n",
    "exp_name = meta_name[0]\n",
    "meta_text = meta_name[0] + '_parameters.txt'\n",
    "meta_date = datetime.now()\n",
    "meta_date = 'Time of run =  ' + meta_date.strftime(\"%m/%d/%Y, %H:%M:%S\")\n",
    "meta_filein = 'Input file = ' + dir_in + file_in\n",
    "meta_dirout = 'Output directory = ' + dir_out\n",
    "meta_mins = 'Analysis window (in minutes) = ' + str(start_mins) + ' , ' + str(end_mins)\n",
    "meta_s = 'Analysis window (in s) = ' + str(start_s) + ' , ' + str(end_s)\n",
    "meta_dp ='Analysis window (in datapoints) = ' + str(start) + ' , ' + str(end)\n",
    "meta_out = [meta_date, meta_filein, meta_dirout, meta_mins, meta_s, meta_dp]\n",
    "\n",
    "try:\n",
    "    os.stat(dir_out)\n",
    "except:\n",
    "    os.makedirs(dir_out)\n",
    "os.chdir(dir_out)\n",
    "f = open(meta_text,\"w+\")\n",
    "for meta in meta_out:\n",
    "    f.write (meta + '\\n')\n",
    "    print(meta)\n",
    "f.close ()\n",
    "os.chdir(dir_in)"
   ]
  },
  {
   "cell_type": "markdown",
   "metadata": {},
   "source": [
    "### Custom Function Definitions"
   ]
  },
  {
   "cell_type": "code",
   "execution_count": 5,
   "metadata": {},
   "outputs": [],
   "source": [
    "def save_csv (df_out, file_out, dir_out):\n",
    "    try:\n",
    "        os.stat(dir_out)\n",
    "    except:\n",
    "        os.makedirs(dir_out)\n",
    "\n",
    "    # Write data to file\n",
    "    os.chdir(dir_out)\n",
    "    df_out.to_csv(file_out, index = False)\n",
    "    \n",
    "def save_fig (fig, file_name, dir_out):\n",
    "    try:\n",
    "        os.stat(dir_out)\n",
    "    except:\n",
    "        os.makedirs(dir_out)\n",
    "    os.chdir(dir_out)\n",
    "    fig.savefig (file_name, dpi= 300, facecolor='w', edgecolor='w',  \n",
    "        orientation='portrait', papertype=None, format=None,\n",
    "        transparent=False, bbox_inches='tight', pad_inches=0.1,\n",
    "        metadata=None)\n",
    "\n",
    "def get_breath (abf, start, end):\n",
    "    if end == -9999:\n",
    "        end = len(abf.sweepY)\n",
    "    \n",
    "    # Get baselines for Ch1 and Ch0\n",
    "    abf.setSweep (sweepNumber = 0, channel = 0) # sets current channel to Ch1\n",
    "    baseline = np.mean(abf.sweepY[:]) # average of the entire trace in Ch0\n",
    "    \n",
    "    breaths_start = []\n",
    "    breaths_end = []\n",
    "    i=0 # current datapoint\n",
    "    \n",
    "    while i < end:\n",
    "        current = abf.sweepY[i]\n",
    "        if current-baseline > threshold1:\n",
    "            pt1 = i # starting datapoint of peak\n",
    "            j = i\n",
    "            while abf.sweepY[j]-baseline > threshold1/2:\n",
    "                j = j+1\n",
    "                i = i + 1   \n",
    "            pt2 = j # end of peak\n",
    "            breaths_start.append(pt1)\n",
    "            breaths_end.append(pt2)\n",
    "        i = i + 1        \n",
    "    return breaths_start, breaths_end\n",
    "    \n",
    "    \n",
    "def get_heart (abf, start, end):\n",
    "    if end == -9999:\n",
    "        end = len(abf.sweepY)\n",
    "    \n",
    "    # Get baselines for Ch1 and Ch0\n",
    "    abf.setSweep (sweepNumber = 0, channel = 1) # sets current channel to Ch1\n",
    "    baseline = np.mean(abf.sweepY[:]) # average of the entire trace in Ch0\n",
    "    heart_start = []\n",
    "    heart_end = []\n",
    "    i=0\n",
    "    \n",
    "    while i < end:\n",
    "        current = abf.sweepY[i]\n",
    "        if current-baseline > threshold2:\n",
    "            pt3 = i\n",
    "            j = i\n",
    "            while abf.sweepY[j]-baseline > threshold2:\n",
    "                j = j+1\n",
    "                i = i + 1   \n",
    "            pt4 = j\n",
    "            heart_start.append(pt3)\n",
    "            heart_end.append(pt4)\n",
    "        i = i + 1\n",
    "            \n",
    "        \n",
    "    return heart_start, heart_end\n",
    "  \n",
    "def plot_breath (abf, start, end):\n",
    "    fig, ax = plt.subplots(2,1, figsize=(8, 8), dpi = 100)\n",
    "    ax[0].spines['right'].set_visible(False)\n",
    "    ax[0].spines['top'].set_visible(False)\n",
    "    ax[1].spines['right'].set_visible(False)\n",
    "    ax[1].spines['top'].set_visible(False)\n",
    "    \n",
    "    abf.setSweep (sweepNumber = 0, channel = 0)\n",
    "    ax[0].plot (abf.sweepX[start:end], abf.sweepY[start:end], linestyle = 'solid')\n",
    "    #ax[0].annotate('*', xy=(abf.sweepX[peak], abf.sweepY[peak]), color = 'black')\n",
    "    \n",
    "    abf.setSweep (sweepNumber = 0, channel = 1)\n",
    "    ax[1].plot (abf.sweepX[start:end], abf.sweepY[start:end], linestyle = 'solid')\n",
    "    \n",
    "def plot_heart (abf, start, end):\n",
    "    fig, ax = plt.subplots(2,1, figsize=(8, 8), dpi = 100)\n",
    "    ax[0].spines['right'].set_visible(False)\n",
    "    ax[0].spines['top'].set_visible(False)\n",
    "    ax[1].spines['right'].set_visible(False)\n",
    "    ax[1].spines['top'].set_visible(False)\n",
    "    \n",
    "    abf.setSweep (sweepNumber = 0, channel = 1)\n",
    "    ax[0].plot (abf.sweepX[start:end], abf.sweepY[start:end], linestyle = 'solid')\n",
    "    #ax[0].scatter (abf.sweepX[peak_x], abf.sweepY[peak_y])\n",
    "    \n",
    "    abf.setSweep (sweepNumber = 0, channel = 0)\n",
    "    ax[1].plot (abf.sweepX[start:end], abf.sweepY[start:end], linestyle = 'solid')\n",
    "       \n",
    "        \n",
    "def get_breath_peak (abf, breath1):\n",
    "    abf.setSweep (sweepNumber = 0, channel = 0)\n",
    "    breath_y = []   \n",
    "    breath_x = []    # datapoints\n",
    "    breath_time = [] # ms\n",
    "    i = 0\n",
    "    while i < len (breath1)-1:\n",
    "        # Find breath peak y value\n",
    "        breath_peak_y = max(abf.sweepY[breath1[i]:breath1[i+1]])\n",
    "        breath_y.append(breath_peak_y)\n",
    "        \n",
    "        # Find breath peak x value\n",
    "        for breath in range(breath1[i],breath1[i+1]):\n",
    "            if abf.sweepY[breath] == breath_peak_y:\n",
    "                breath_x.append(breath)\n",
    "                breath_time.append(abf.sweepX[breath])\n",
    "        i = i+1\n",
    "    return breath_x,breath_time, breath_y\n",
    "\n",
    "def get_heart_peaks (abf, heart1):\n",
    "    abf.setSweep (sweepNumber = 0, channel = 1)\n",
    "    heart_y = []   \n",
    "    heart_x = []    # datapoints\n",
    "    heart_time = [] # ms\n",
    "    i = 0\n",
    "    while i < len (heart1)-1:\n",
    "        # Find breath peak y value\n",
    "        heart_peak_y = max(abf.sweepY[heart1[i]:heart1[i+1]])\n",
    "        heart_y.append(heart_peak_y)\n",
    "        \n",
    "        # Find breath peak x value\n",
    "        for heart in range(heart1[i],heart1[i+1]):\n",
    "            if abf.sweepY[heart] == heart_peak_y:\n",
    "                heart_x.append(heart)\n",
    "                heart_time.append(abf.sweepX[heart])\n",
    "        i = i+1\n",
    "    return heart_x,heart_time, heart_y\n",
    "\n",
    "def get_heart_peak (abf, breath_x, breath1):\n",
    "    abf.setSweep (sweepNumber = 0, channel = 1)\n",
    "    heart_y = []   \n",
    "    heart_x = []    # datapoints\n",
    "    heart_time = [] # ms\n",
    "    i = 1\n",
    "    while i < len (breath1):\n",
    "        # Find heart peak y value\n",
    "        heart_peak_y = max(abf.sweepY[breath_x[i-1]:breath1[i]])\n",
    "        heart_y.append(heart_peak_y)\n",
    "        \n",
    "        # Find heart peak x value\n",
    "        for heart in range(breath_x[i-1],breath1[i]):\n",
    "            if abf.sweepY[heart] == heart_peak_y:\n",
    "                heart_x.append(heart)\n",
    "                heart_time.append(abf.sweepX[heart])\n",
    "        i = i+1\n",
    "    return heart_x,  heart_time, heart_y\n",
    "\n",
    "def plot_peaks (abf, breath1, threshold1, threshold2, breath_time, heart_time, breath_y, heart_y):\n",
    "    # Plot Breath Epoch with Peak\n",
    "    i = 0\n",
    "    while i < len(breath1)-1:\n",
    "   \n",
    "        fig, ax = plt.subplots(2,1, figsize=(6, 8), dpi = 100)\n",
    "        ax[0].spines['right'].set_visible(False)\n",
    "        ax[0].spines['top'].set_visible(False)\n",
    "        ax[1].spines['right'].set_visible(False)\n",
    "        ax[1].spines['top'].set_visible(False)\n",
    "    \n",
    "        #Plot Breath Peaks\n",
    "        abf.setSweep (sweepNumber = 0, channel = 0)\n",
    "        x_values = abf.sweepX[breath1[i] : breath1[i+1]]\n",
    "        y_values = abf.sweepY[breath1[i]:breath1[i+1]]\n",
    "        x_peak = breath_time[i]-0.005\n",
    "        y_peak = breath_y[i]+ threshold1 * 0.1\n",
    "        ax[0].plot (x_values, y_values , linestyle = 'solid')\n",
    "        ax[0].annotate('*', xy=(x_peak, y_peak), size = 25, color = 'black') \n",
    "        ax[0].set_ylim(min(y_values) - threshold1 * 0.5 , max(y_values) + threshold1 * 0.5)\n",
    "    \n",
    "        # Plot Heart Peaks\n",
    "        abf.setSweep (sweepNumber = 0, channel = 1)\n",
    "        x_values = abf.sweepX[breath1[i]:breath1[i+1]]\n",
    "        y_values = abf.sweepY[breath1[i]:breath1[i+1]]\n",
    "        x_peak = heart_time[i]-0.005\n",
    "        y_peak = heart_y[i]+ threshold2 *0.1\n",
    "        ax[1].plot (x_values, y_values , linestyle = 'solid')\n",
    "        ax[1].annotate('*', xy=(x_peak, y_peak), size = 25, color = 'black') \n",
    "        ax[1].set_ylim(min(y_values) - threshold2 * 0.5 , max(y_values) + threshold2 * 0.5)\n",
    "    \n",
    "        # 0.005 adjustment (1 dp = 0.005 seconds) \n",
    "        # Takes into account that the plot starts at data point #1, but arrays in python start at #0\n",
    "        # Without the adjustment, the asterisk would be shifted one datapoint ahead of the actual peak (+ 0.005s)\n",
    "        # Y axis is also adjusted on peak annotation by shifting up 10% to avoid obscuring the actual data\n",
    "        # Y axis limits are set to 50% of threshold above max and min Y values\n",
    "        \n",
    "        i = i + 1"
   ]
  },
  {
   "cell_type": "markdown",
   "metadata": {},
   "source": [
    "### Get all breath peaks"
   ]
  },
  {
   "cell_type": "code",
   "execution_count": 6,
   "metadata": {},
   "outputs": [
    {
     "data": {
      "text/html": [
       "<table border=\"1\" class=\"dataframe\">\n",
       "  <thead>\n",
       "    <tr style=\"text-align: right;\">\n",
       "      <th></th>\n",
       "      <th>breath_peaks_x</th>\n",
       "      <th>breath_peaks_ms</th>\n",
       "      <th>breath_peaks_y</th>\n",
       "    </tr>\n",
       "  </thead>\n",
       "  <tbody>\n",
       "    <tr>\n",
       "      <th>0</th>\n",
       "      <td>57</td>\n",
       "      <td>0.0285</td>\n",
       "      <td>0.668030</td>\n",
       "    </tr>\n",
       "    <tr>\n",
       "      <th>1</th>\n",
       "      <td>574</td>\n",
       "      <td>0.2870</td>\n",
       "      <td>0.707092</td>\n",
       "    </tr>\n",
       "  </tbody>\n",
       "</table>"
      ],
      "text/plain": [
       "<IPython.core.display.HTML object>"
      ]
     },
     "metadata": {},
     "output_type": "display_data"
    }
   ],
   "source": [
    "# Get Breath Epoch\n",
    "breath1, breath2 = get_breath (abf, start, end) \n",
    "\n",
    "# Get Breath Peaks\n",
    "breath_x, breath_ms, breath_y = get_breath_peak (abf, breath1)\n",
    "\n",
    "df_breaths = pd.DataFrame()\n",
    "df_breaths['breath_peaks_x'] = breath_x\n",
    "df_breaths['breath_peaks_ms'] = breath_ms\n",
    "df_breaths['breath_peaks_y'] = breath_y\n",
    "display(HTML(df_breaths.to_html()))\n",
    "\n",
    "save_csv(df_breaths, exp_name + '_all_breaths.csv', dir_out)\n"
   ]
  },
  {
   "cell_type": "markdown",
   "metadata": {},
   "source": [
    "### Calculate Firing rate of breaths"
   ]
  },
  {
   "cell_type": "code",
   "execution_count": 7,
   "metadata": {},
   "outputs": [
    {
     "name": "stdout",
     "output_type": "stream",
     "text": [
      "Breath spikes =  2\n",
      "Epoch Length =  3\n",
      "Breath rate =  0.6666666666666666\n"
     ]
    }
   ],
   "source": [
    "spike_num = len(df_breaths.breath_peaks_x)\n",
    "epoch_length = end_s - start_s\n",
    "spike_rate = spike_num/epoch_length\n",
    "\n",
    "# Add to the parameters text file\n",
    "os.chdir(dir_out)\n",
    "f = open(meta_text,\"a\")\n",
    "f.write ('Breath spikes = ' + str(spike_num) +  '\\n')\n",
    "f.write ('Timeframe = ' + str(epoch_length) +  '\\n')\n",
    "f.write ('Breath rate = ' + str(spike_rate) +  '\\n')\n",
    "print('Breath spikes = ', spike_num)\n",
    "print('Epoch Length = ', epoch_length)\n",
    "print('Breath rate = ', spike_rate)\n",
    "f.close ()\n",
    "os.chdir(dir_in)"
   ]
  },
  {
   "cell_type": "markdown",
   "metadata": {},
   "source": [
    "### Get all heart peaks"
   ]
  },
  {
   "cell_type": "code",
   "execution_count": 8,
   "metadata": {},
   "outputs": [
    {
     "data": {
      "text/html": [
       "<table border=\"1\" class=\"dataframe\">\n",
       "  <thead>\n",
       "    <tr style=\"text-align: right;\">\n",
       "      <th></th>\n",
       "      <th>breath_peaks_x</th>\n",
       "      <th>breath_peaks_ms</th>\n",
       "      <th>breath_peaks_y</th>\n",
       "    </tr>\n",
       "  </thead>\n",
       "  <tbody>\n",
       "    <tr>\n",
       "      <th>0</th>\n",
       "      <td>9</td>\n",
       "      <td>0.0045</td>\n",
       "      <td>0.076599</td>\n",
       "    </tr>\n",
       "    <tr>\n",
       "      <th>1</th>\n",
       "      <td>191</td>\n",
       "      <td>0.0955</td>\n",
       "      <td>0.069885</td>\n",
       "    </tr>\n",
       "    <tr>\n",
       "      <th>2</th>\n",
       "      <td>372</td>\n",
       "      <td>0.1860</td>\n",
       "      <td>0.067139</td>\n",
       "    </tr>\n",
       "    <tr>\n",
       "      <th>3</th>\n",
       "      <td>559</td>\n",
       "      <td>0.2795</td>\n",
       "      <td>0.067444</td>\n",
       "    </tr>\n",
       "    <tr>\n",
       "      <th>4</th>\n",
       "      <td>740</td>\n",
       "      <td>0.3700</td>\n",
       "      <td>0.074158</td>\n",
       "    </tr>\n",
       "    <tr>\n",
       "      <th>5</th>\n",
       "      <td>931</td>\n",
       "      <td>0.4655</td>\n",
       "      <td>0.061035</td>\n",
       "    </tr>\n",
       "    <tr>\n",
       "      <th>6</th>\n",
       "      <td>1121</td>\n",
       "      <td>0.5605</td>\n",
       "      <td>0.066833</td>\n",
       "    </tr>\n",
       "    <tr>\n",
       "      <th>7</th>\n",
       "      <td>1299</td>\n",
       "      <td>0.6495</td>\n",
       "      <td>0.062256</td>\n",
       "    </tr>\n",
       "  </tbody>\n",
       "</table>"
      ],
      "text/plain": [
       "<IPython.core.display.HTML object>"
      ]
     },
     "metadata": {},
     "output_type": "display_data"
    }
   ],
   "source": [
    "heart1, heart2 = get_heart (abf, start, end)\n",
    "\n",
    "# Get Heart Peaks\n",
    "heart_x, heart_ms, heart_y = get_heart_peaks (abf, heart1)\n",
    "\n",
    "df_heart = pd.DataFrame()\n",
    "df_heart['breath_peaks_x'] = heart_x\n",
    "df_heart['breath_peaks_ms'] = heart_ms\n",
    "df_heart['breath_peaks_y'] = heart_y\n",
    "display(HTML(df_heart.to_html()))\n",
    "\n",
    "save_csv(df_heart, exp_name + '_all_hearts.csv', dir_out)"
   ]
  },
  {
   "cell_type": "markdown",
   "metadata": {},
   "source": [
    "### Get Heart Peak Following a Breath Peak"
   ]
  },
  {
   "cell_type": "code",
   "execution_count": 9,
   "metadata": {
    "scrolled": false
   },
   "outputs": [
    {
     "data": {
      "text/html": [
       "<table border=\"1\" class=\"dataframe\">\n",
       "  <thead>\n",
       "    <tr style=\"text-align: right;\">\n",
       "      <th></th>\n",
       "      <th>breath_peaks_x</th>\n",
       "      <th>breath_peaks_ms</th>\n",
       "      <th>breath_peaks_y</th>\n",
       "      <th>heart_peaks_x</th>\n",
       "      <th>heart_peaks_ms</th>\n",
       "      <th>heart_peaks_y</th>\n",
       "    </tr>\n",
       "  </thead>\n",
       "  <tbody>\n",
       "    <tr>\n",
       "      <th>0</th>\n",
       "      <td>57</td>\n",
       "      <td>0.0285</td>\n",
       "      <td>0.668030</td>\n",
       "      <td>191</td>\n",
       "      <td>0.0955</td>\n",
       "      <td>0.069885</td>\n",
       "    </tr>\n",
       "    <tr>\n",
       "      <th>1</th>\n",
       "      <td>574</td>\n",
       "      <td>0.2870</td>\n",
       "      <td>0.707092</td>\n",
       "      <td>740</td>\n",
       "      <td>0.3700</td>\n",
       "      <td>0.074158</td>\n",
       "    </tr>\n",
       "  </tbody>\n",
       "</table>"
      ],
      "text/plain": [
       "<IPython.core.display.HTML object>"
      ]
     },
     "metadata": {},
     "output_type": "display_data"
    },
    {
     "data": {
      "image/png": "[encoded data removed]",
      "text/plain": [
       "<Figure size 600x800 with 2 Axes>"
      ]
     },
     "metadata": {},
     "output_type": "display_data"
    },
    {
     "data": {
      "image/png": "[encoded data removed]",
      "text/plain": [
       "<Figure size 600x800 with 2 Axes>"
      ]
     },
     "metadata": {},
     "output_type": "display_data"
    }
   ],
   "source": [
    "# Get Breath Epochs\n",
    "breath1, breath2 = get_breath (abf, start, end) \n",
    "\n",
    "# Get Breath Peaks\n",
    "breath_x, breath_ms, breath_y = get_breath_peak (abf, breath1)\n",
    "\n",
    "# Get Heart Peak\n",
    "heart_x, heart_ms, heart_y = get_heart_peak (abf, breath_x, breath1)\n",
    "\n",
    "# Plot heart peak relative to breath peak\n",
    "plot_peaks (abf, breath1, threshold1, threshold2, breath_ms, heart_ms, breath_y, heart_y)\n",
    "\n",
    "# Table output of all calculated data\n",
    "df_breath_heart = pd.DataFrame()\n",
    "df_breath_heart['breath_peaks_x'] = breath_x\n",
    "df_breath_heart['breath_peaks_ms'] = breath_ms\n",
    "df_breath_heart['breath_peaks_y'] = breath_y\n",
    "df_breath_heart['heart_peaks_x'] = heart_x\n",
    "df_breath_heart['heart_peaks_ms'] = heart_ms\n",
    "df_breath_heart['heart_peaks_y'] = heart_y\n",
    "display(HTML(df_breath_heart.to_html()))\n",
    "\n",
    "# Save data to a csv (Comma Separated Values) Spreadsheet that can be opened in Excel\n",
    "save_csv(df_breath_heart, exp_name + '_breath_heart.csv', dir_out)"
   ]
  },
  {
   "cell_type": "markdown",
   "metadata": {},
   "source": [
    "### Calculate Latency between breath spike and heart spike"
   ]
  },
  {
   "cell_type": "code",
   "execution_count": 11,
   "metadata": {},
   "outputs": [
    {
     "data": {
      "text/html": [
       "<table border=\"1\" class=\"dataframe\">\n",
       "  <thead>\n",
       "    <tr style=\"text-align: right;\">\n",
       "      <th></th>\n",
       "      <th>breath_peaks_x</th>\n",
       "      <th>breath_peaks_ms</th>\n",
       "      <th>breath_peaks_y</th>\n",
       "      <th>heart_peaks_x</th>\n",
       "      <th>heart_peaks_ms</th>\n",
       "      <th>heart_peaks_y</th>\n",
       "      <th>latency_dp</th>\n",
       "      <th>latency_ms</th>\n",
       "    </tr>\n",
       "  </thead>\n",
       "  <tbody>\n",
       "    <tr>\n",
       "      <th>0</th>\n",
       "      <td>57</td>\n",
       "      <td>0.0285</td>\n",
       "      <td>0.668030</td>\n",
       "      <td>191</td>\n",
       "      <td>0.0955</td>\n",
       "      <td>0.069885</td>\n",
       "      <td>134</td>\n",
       "      <td>0.067</td>\n",
       "    </tr>\n",
       "    <tr>\n",
       "      <th>1</th>\n",
       "      <td>574</td>\n",
       "      <td>0.2870</td>\n",
       "      <td>0.707092</td>\n",
       "      <td>740</td>\n",
       "      <td>0.3700</td>\n",
       "      <td>0.074158</td>\n",
       "      <td>166</td>\n",
       "      <td>0.083</td>\n",
       "    </tr>\n",
       "  </tbody>\n",
       "</table>"
      ],
      "text/plain": [
       "<IPython.core.display.HTML object>"
      ]
     },
     "metadata": {},
     "output_type": "display_data"
    }
   ],
   "source": [
    "df_latency = df_breath_heart.copy() # Always work with a copy of the original dataframe to prevent overwriting data\n",
    "\n",
    "latencies_dp = []\n",
    "latencies_ms = []\n",
    "\n",
    "i = 0\n",
    "while i < len(df_latency.breath_peaks_x):\n",
    "    latency_dp = df_latency.heart_peaks_x[i] - df_latency.breath_peaks_x[i]\n",
    "    latency_ms = df_latency.heart_peaks_ms[i] - df_latency.breath_peaks_ms[i]\n",
    "    latencies_dp.append(latency_dp)\n",
    "    latencies_ms.append(latency_ms)\n",
    "    i = i + 1\n",
    "        \n",
    "# Add latencies to the csv file\n",
    "df_breath_heart['latency_dp'] = latencies_dp\n",
    "df_breath_heart['latency_ms'] = latencies_ms\n",
    "save_csv(df_breath_heart, exp_name + '_breath_heart.csv', dir_out)\n",
    "display(HTML(df_breath_heart.to_html()))\n",
    "\n"
   ]
  },
  {
   "cell_type": "code",
   "execution_count": null,
   "metadata": {},
   "outputs": [],
   "source": []
  },
  {
   "cell_type": "code",
   "execution_count": null,
   "metadata": {},
   "outputs": [],
   "source": []
  }
 ],
 "metadata": {
  "kernelspec": {
   "display_name": "Python 3",
   "language": "python",
   "name": "python3"
  },
  "language_info": {
   "codemirror_mode": {
    "name": "ipython",
    "version": 3
   },
   "file_extension": ".py",
   "mimetype": "text/x-python",
   "name": "python",
   "nbconvert_exporter": "python",
   "pygments_lexer": "ipython3",
   "version": "3.6.5"
  }
 },
 "nbformat": 4,
 "nbformat_minor": 2
}
